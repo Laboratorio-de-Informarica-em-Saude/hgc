{
 "cells": [
  {
   "cell_type": "code",
   "execution_count": 1,
   "metadata": {
    "collapsed": true
   },
   "outputs": [],
   "source": [
    "import scipy.io as sio\n",
    "\n",
    "def readQTMFile(qtmFile):\n",
    "    content = sio.loadmat(qtmFile)\n",
    "    \n",
    "    index = 0\n",
    "    mat_var_index = 0\n",
    "    for key in content.keys(): \n",
    "        index = key.find('__') #the variable in the matlab file is the first key that don't have this chars\n",
    "        if index == -1:\n",
    "            break\n",
    "        mat_var_index += 1\n",
    "\n",
    "    if index != -1:\n",
    "        raise ValueError(\"File format wrong. It does not have the initial variable\")\n",
    "\n",
    "    root_var = content[content.keys()[mat_var_index]][0,0] \n",
    "    trajectories = root_var['Trajectories'][0,0]['Unidentified'][0,0]['Data']\n",
    "    new_content = {\n",
    "            'frame_rate': root_var['FrameRate'][0,0], \n",
    "            'trajectories': trajectories,\n",
    "            'frames': root_var['Frames'][0,0],\n",
    "            'number_markers': trajectories.shape[0] \n",
    "            }\n",
    "    \n",
    "    return new_content\n"
   ]
  },
  {
   "cell_type": "code",
   "execution_count": 2,
   "metadata": {
    "collapsed": false
   },
   "outputs": [],
   "source": [
    "data = readQTMFile(\"data/JULIANA2701w1D.mat\")"
   ]
  },
  {
   "cell_type": "code",
   "execution_count": 3,
   "metadata": {
    "collapsed": false
   },
   "outputs": [],
   "source": [
    "positional_data = {}\n",
    "positional_data['patient_id'] = 0\n",
    "positional_data['gait_sample_index'] = 0\n",
    "positional_data['frame_rate'] = data['frame_rate']\n",
    "\n",
    "positional_data['frames'] = data['frames']\n",
    "positional_data['number_markers'] = data['number_markers']\n",
    "positional_data['original_filename'] = \"JULIANA2701w1D.mat\"\n",
    "\n",
    "#Precisa configurar\n",
    "positional_data['initial_frame'] = 95\n",
    "positional_data['final_frame'] = 155\n",
    "\n",
    "\n",
    "markers = [];\n",
    "for i in range(data['number_markers']):\n",
    "        markers.append('')\n",
    "positional_data['markers'] = markers\n",
    "positional_data['trajectories'] = data['trajectories'].tolist()\n",
    "    \n",
    "    \n",
    "    #markers\n",
    "positional_data['markers'][2] = 'Right Subtalar'\n",
    "positional_data['markers'][4] = 'Right Knee'\n",
    "positional_data['markers'][21] = 'Right Trochanter'\n",
    "positional_data['markers'][5] = 'Right Tibia'\n",
    "positional_data['markers'][15] = 'Sacrum'\n",
    "positional_data['markers'][14] = 'Left Subtalar'\n",
    "positional_data['markers'][10] = 'Left Knee'\n",
    "positional_data['markers'][24] = 'Left Trochanter'\n",
    "positional_data['markers'][11] = 'Left Tibia'"
   ]
  },
  {
   "cell_type": "code",
   "execution_count": 4,
   "metadata": {
    "collapsed": false
   },
   "outputs": [],
   "source": [
    "import numpy as np\n",
    "def cut_trajectories(pos):\n",
    "    trajectories = np.array(pos['trajectories'])\n",
    "    if 'initial_frame' in pos and 'final_frame' in pos and 'frames' in pos:\n",
    "        initial = pos['initial_frame'] \n",
    "        final = pos['final_frame']\n",
    "        frames = pos['frames'] \n",
    "        if initial >0 and initial < final and final < frames:\n",
    "            trajectories = trajectories[:,:, initial:final]\n",
    "    return trajectories\n",
    "\n",
    "\n",
    "#cinematic\n",
    "\n",
    "def calc_angular_velocities(origins, components_a, components_b, time):\n",
    "    angles = get_angles(origins, components_a, components_b)\n",
    "    final = angles[1: len(angles)]\n",
    "    initial = angles[0: len(angles) -1]\n",
    "    return (final - initial) / time\n",
    "\n",
    "def calc_angular_accelerations(angular_velocities, time):\n",
    "    final = angular_velocities[1: len(angular_velocities)]\n",
    "    initial = angular_velocities[0: len(angular_velocities) -1]\n",
    "    return (final - initial) / time\n",
    "\n",
    "\n",
    "def get_angles(origins, components_a, components_b):\n",
    "    trans_a = components_a - origins\n",
    "    trans_b = components_b - origins\n",
    "    angles = np.arccos(np.sum(trans_a * trans_b, axis = 1)/(np.sqrt(np.sum(trans_a ** 2, axis = 1)) * np.sqrt(np.sum(trans_b ** 2, axis = 1))))\n",
    "\n",
    "    return (np.pi -  angles) * (180/np.pi)\n",
    "\n",
    "def get_vectorial_velocities(vector, time):\n",
    "        final_position = vector[1: len(vector)]\n",
    "        initial_position = vector[0: len(vector) - 1]\n",
    "        return (final_position - initial_position) / time\n",
    "\n",
    "def get_3d_velocities(vector_x, vector_y, vector_z, time):\n",
    "        return (get_vectorial_velocities(vector_x, time), get_vectorial_velocities(vector_y, time), get_vectorial_velocities(vector_z, time))\n",
    "    \n",
    "def calc_pos_foot_center(sacrum, subtalar):\n",
    "\n",
    "    for i in range(len(sacrum[0])):\n",
    "        if i == 0:\n",
    "            comp_x = [(sacrum[0][i]).T - (subtalar_r[0][i]).T]\n",
    "            comp_y = [(sacrum[1][i]).T - (subtalar_r[1][i]).T]\n",
    "            comp_z = [(sacrum[2][i]).T - (subtalar_r[2][i]).T]\n",
    "            pos = np.sqrt([np.power(comp_x,[2])+np.power(comp_y,[2])+np.power(comp_z,[2])])\n",
    "        if i > 0:\n",
    "            comp_x = [(sacrum[0][i]).T - (subtalar_r[0][i]).T]\n",
    "            comp_y = [(sacrum[1][i]).T - (subtalar_r[1][i]).T]\n",
    "            comp_z = [(sacrum[2][i]).T - (subtalar_r[2][i]).T]\n",
    "            pos = np.concatenate((pos, np.sqrt([np.power(comp_x,[2])+np.power(comp_y,[2])+np.power(comp_z,[2])])), axis=0)\n",
    "    return pos"
   ]
  },
  {
   "cell_type": "code",
   "execution_count": 5,
   "metadata": {
    "collapsed": false
   },
   "outputs": [],
   "source": [
    "#Colocando os dados dentro do ciclo de marcha\n",
    "cut_t = cut_trajectories(positional_data)\n",
    "\n",
    "#posição dos pés relativa ao Sacro\n",
    "sacrum = cut_t[15][0:3][:]\n",
    "subtalar_r = cut_t[2][0:3][:]\n",
    "subtalar_l = cut_t[14][0:3][:]\n",
    "\n",
    "#angulo joelho direito\n",
    "origin = cut_t[4][0:3][:]        #Joelho\n",
    "component_a = cut_t[21][0:3][:]  #Trocanter\n",
    "component_b = cut_t[5][0:3][:]   #Tibia\n",
    "\n",
    "#angulo joelho esquerdo\n",
    "l_origin = cut_t[10][0:3][:] #joelho\n",
    "l_component_a = cut_t[24][0:3][:]#Trocanter\n",
    "l_component_b = cut_t[11][0:3][:]  #Tibia"
   ]
  },
  {
   "cell_type": "code",
   "execution_count": 6,
   "metadata": {
    "collapsed": true
   },
   "outputs": [],
   "source": [
    "#features da perna direita\n",
    "a = get_angles(\n",
    "        np.array(origin).T, \n",
    "        np.array(component_a).T, \n",
    "        np.array(component_b).T)\n",
    "av = calc_angular_velocities(np.array(origin).T, \n",
    "                             np.array(component_a).T, \n",
    "                             np.array(component_b).T, \n",
    "                             1/float(positional_data['frame_rate']))  \n",
    "aa = calc_angular_accelerations(av, 1/float(positional_data['frame_rate']))\n",
    "# as velocidades vem do trocanter\n",
    "velocities3d = np.vstack(get_3d_velocities(component_a.T[:,0], \n",
    "                                 component_a.T[:,1],\n",
    "                                 component_a.T[:,2],                                 \n",
    "                                 1/float(positional_data['frame_rate']))).T\n",
    "\n",
    "#features da perna esquerda\n",
    "\n",
    "l_a = get_angles(\n",
    "        np.array(l_origin).T, \n",
    "        np.array(l_component_a).T, \n",
    "        np.array(l_component_b).T)\n",
    "l_av = calc_angular_velocities(np.array(l_origin).T, \n",
    "                             np.array(l_component_a).T, \n",
    "                             np.array(l_component_b).T, \n",
    "                             1/float(positional_data['frame_rate']))  \n",
    "l_aa = calc_angular_accelerations(l_av, 1/float(positional_data['frame_rate']))\n",
    "# as velocidades vem do trocanter\n",
    "l_velocities3d = np.vstack(get_3d_velocities(l_component_a.T[:,0], \n",
    "                                 l_component_a.T[:,1],\n",
    "                                 l_component_a.T[:,2],                                 \n",
    "                                 1/float(positional_data['frame_rate']))).T\n",
    "\n",
    "# posição do pé direito em relação ao sacro\n",
    "pos_foot_r = calc_pos_foot_center(sacrum, subtalar_r)\n",
    "\n",
    "# posição do pé esquerdo em relação ao sacro\n",
    "pos_foot_l = calc_pos_foot_center(sacrum, subtalar_l)"
   ]
  },
  {
   "cell_type": "code",
   "execution_count": 7,
   "metadata": {
    "collapsed": false
   },
   "outputs": [
    {
     "name": "stdout",
     "output_type": "stream",
     "text": [
      "Saved to file\n"
     ]
    }
   ],
   "source": [
    "## salvando em arquivo na pasta \n",
    "from Data_Savior import save_it_now\n",
    "save_it_now(a, av, aa, velocities3d, l_a, l_av, l_aa, l_velocities3d, \"./preprocessed_data/JULIANA2701w1D.data\")"
   ]
  },
  {
   "cell_type": "code",
   "execution_count": 8,
   "metadata": {
    "collapsed": false
   },
   "outputs": [
    {
     "data": {
      "image/png": "[encoded data removed]",
      "text/plain": [
       "<matplotlib.figure.Figure at 0x7f7cac8f98d0>"
      ]
     },
     "metadata": {},
     "output_type": "display_data"
    }
   ],
   "source": [
    "%matplotlib inline\n",
    "a_img = a \n",
    "a_dom = 100 * np.arange(0, len(a_img))/np.float(len(a_img))\n",
    "lr_i = 0\n",
    "lr_f = a_dom.max() * 0.12 \n",
    "mst_i = lr_f\n",
    "mst_f = a_dom.max() * 0.31\n",
    "tst_i = mst_f\n",
    "tst_f = a_dom.max() * 0.50\n",
    "psw_i = tst_f\n",
    "psw_f = a_dom.max() * 0.62\n",
    "isw_i = psw_f\n",
    "isw_f = a_dom.max() * 0.75\n",
    "msw_i = isw_f\n",
    "msw_f = a_dom.max() * 0.87\n",
    "tsw_i = msw_f\n",
    "tsw_f = a_dom.max() * 1\n",
    "\n",
    "\n",
    "import matplotlib.pyplot as plt\n",
    "fig = plt.figure(1)\n",
    "\n",
    "plt.subplot(1,1,1)\n",
    "plt.title(\"Angles for %s\" % \"Right Knee\")\n",
    "plt.ylabel (\"Degrees\")\n",
    "plt.xlabel (\"Percentual Gait Cycle\")\n",
    "plt.axis([0, a_dom.max(), a_img.min(), a_img.max()])\n",
    "curve_a, = plt.plot(a_dom, a_img, 'r')\n",
    "plt.axvspan(xmin = lr_i, xmax=lr_f, ymin =0, ymax=1, alpha = 0.2, color='b')\n",
    "plt.annotate('LR', xy=(lr_i + 5, a_img.max() * 0.90))  \n",
    "plt.axvspan(xmin = mst_i, xmax=mst_f, ymin =0, ymax=1, alpha = 0.2, color='y')\n",
    "plt.annotate('MSt', xy=(mst_i + 5, a_img.max() * 0.90))  \n",
    "plt.axvspan(xmin = tst_i, xmax=tst_f, ymin =0, ymax=1, alpha = 0.4, color='y')\n",
    "plt.annotate('TSt', xy=(tst_i + 5, a_img.max() * 0.90))  \n",
    "plt.axvspan(xmin = psw_i, xmax=psw_f, ymin =0, ymax=1, alpha = 0.2, color='b')\n",
    "plt.annotate('PSw', xy=(psw_i + 5, a_img.max() * 0.90))  \n",
    "plt.axvspan(xmin = isw_i, xmax=isw_f, ymin =0, ymax=1, alpha = 0.2, color='y')\n",
    "plt.annotate('ISw', xy=(isw_i + 5, a_img.max() * 0.90))  \n",
    "plt.axvspan(xmin = msw_i, xmax=msw_f, ymin =0, ymax=1, alpha = 0.4, color='y')\n",
    "plt.annotate('MSw', xy=(msw_i + 5, a_img.max() * 0.90))  \n",
    "plt.axvspan(xmin = tsw_i, xmax=tsw_f, ymin =0, ymax=1, alpha = 0.6, color='y')\n",
    "plt.annotate('TSw', xy=(tsw_i + 5, a_img.max() * 0.90))  \n",
    "\n",
    "plt.show()"
   ]
  },
  {
   "cell_type": "code",
   "execution_count": 9,
   "metadata": {
    "collapsed": false
   },
   "outputs": [
    {
     "data": {
      "image/png": "[encoded data removed]",
      "text/plain": [
       "<matplotlib.figure.Figure at 0x7f7c88514090>"
      ]
     },
     "metadata": {},
     "output_type": "display_data"
    }
   ],
   "source": [
    "\n",
    "av_img = av \n",
    "av_dom = 100 * np.arange(0, len(av_img))/np.float(len(av_img))\n",
    "lr_i = 0\n",
    "lr_f = av_dom.max() * 0.12 \n",
    "mst_i = lr_f\n",
    "mst_f = av_dom.max() * 0.31\n",
    "tst_i = mst_f\n",
    "tst_f = av_dom.max() * 0.50\n",
    "psw_i = tst_f\n",
    "psw_f = av_dom.max() * 0.62\n",
    "isw_i = psw_f\n",
    "isw_f = av_dom.max() * 0.75\n",
    "msw_i = isw_f\n",
    "msw_f = av_dom.max() * 0.87\n",
    "tsw_i = msw_f\n",
    "tsw_f = av_dom.max() * 1\n",
    "\n",
    "import matplotlib.pyplot as plt\n",
    "fig = plt.figure(1)\n",
    "\n",
    "plt.subplot(1,1,1)\n",
    "plt.title(\"Angular Velociteis for %s\" % \"Angular Velocities Right knee\")\n",
    "plt.ylabel (\"Degrees/Seconds\")\n",
    "plt.xlabel (\"Percentual Gait Cycle\")\n",
    "plt.axis([0, av_dom.max(), av_img.min(), av_img.max()])\n",
    "curve_av, = plt.plot(av_dom, av_img, 'r')\n",
    "plt.axvspan(xmin = lr_i, xmax=lr_f, ymin =0, ymax=1, alpha = 0.2, color='b')\n",
    "plt.annotate('LR', xy=(lr_i + 5, av_img.max() * 0.90))  \n",
    "plt.axvspan(xmin = mst_i, xmax=mst_f, ymin =0, ymax=1, alpha = 0.2, color='y')\n",
    "plt.annotate('MSt', xy=(mst_i + 5, av_img.max() * 0.90))  \n",
    "plt.axvspan(xmin = tst_i, xmax=tst_f, ymin =0, ymax=1, alpha = 0.4, color='y')\n",
    "plt.annotate('TSt', xy=(tst_i + 5, av_img.max() * 0.90))  \n",
    "plt.axvspan(xmin = psw_i, xmax=psw_f, ymin =0, ymax=1, alpha = 0.2, color='b')\n",
    "plt.annotate('PSw', xy=(psw_i + 5, av_img.max() * 0.90))  \n",
    "plt.axvspan(xmin = isw_i, xmax=isw_f, ymin =0, ymax=1, alpha = 0.2, color='y')\n",
    "plt.annotate('ISw', xy=(isw_i + 5, av_img.max() * 0.90))  \n",
    "plt.axvspan(xmin = msw_i, xmax=msw_f, ymin =0, ymax=1, alpha = 0.4, color='y')\n",
    "plt.annotate('MSw', xy=(msw_i + 5, av_img.max() * 0.90))  \n",
    "plt.axvspan(xmin = tsw_i, xmax=tsw_f, ymin =0, ymax=1, alpha = 0.6, color='y')\n",
    "plt.annotate('TSw', xy=(tsw_i + 5, av_img.max() * 0.90))  \n",
    "\n",
    "plt.show()"
   ]
  },
  {
   "cell_type": "code",
   "execution_count": 10,
   "metadata": {
    "collapsed": false
   },
   "outputs": [
    {
     "data": {
      "image/png": "[encoded data removed]",
      "text/plain": [
       "<matplotlib.figure.Figure at 0x7f7c835b2750>"
      ]
     },
     "metadata": {},
     "output_type": "display_data"
    }
   ],
   "source": [
    "    av_img = aa \n",
    "    av_dom = 100 * np.arange(0, len(av_img))/np.float(len(av_img))\n",
    "    lr_i = 0\n",
    "    lr_f = av_dom.max() * 0.12 \n",
    "    mst_i = lr_f\n",
    "    mst_f = av_dom.max() * 0.31\n",
    "    tst_i = mst_f\n",
    "    tst_f = av_dom.max() * 0.50\n",
    "    psw_i = tst_f\n",
    "    psw_f = av_dom.max() * 0.62\n",
    "    isw_i = psw_f\n",
    "    isw_f = av_dom.max() * 0.75\n",
    "    msw_i = isw_f\n",
    "    msw_f = av_dom.max() * 0.87\n",
    "    tsw_i = msw_f\n",
    "    tsw_f = av_dom.max() * 1\n",
    "\n",
    "    import matplotlib.pyplot as plt\n",
    "    fig = plt.figure(1)\n",
    "\n",
    "    plt.subplot(1,1,1)\n",
    "    plt.title(\"Angular Accelerations for %s\" % \"Angular Acceleration\")\n",
    "    plt.ylabel (\"Degrees/Seconds^2\")\n",
    "    plt.xlabel (\"Percentual Gait Cycle\")\n",
    "    plt.axis([0, av_dom.max(), av_img.min(), av_img.max()])\n",
    "    curve_av, = plt.plot(av_dom, av_img, 'r')\n",
    "    plt.axvspan(xmin = lr_i, xmax=lr_f, ymin =0, ymax=1, alpha = 0.2, color='b')\n",
    "    plt.annotate('LR', xy=(lr_i + 5, av_img.max() * 0.90))  \n",
    "    plt.axvspan(xmin = mst_i, xmax=mst_f, ymin =0, ymax=1, alpha = 0.2, color='y')\n",
    "    plt.annotate('MSt', xy=(mst_i + 5, av_img.max() * 0.90))  \n",
    "    plt.axvspan(xmin = tst_i, xmax=tst_f, ymin =0, ymax=1, alpha = 0.4, color='y')\n",
    "    plt.annotate('TSt', xy=(tst_i + 5, av_img.max() * 0.90))  \n",
    "    plt.axvspan(xmin = psw_i, xmax=psw_f, ymin =0, ymax=1, alpha = 0.2, color='b')\n",
    "    plt.annotate('PSw', xy=(psw_i + 5, av_img.max() * 0.90))  \n",
    "    plt.axvspan(xmin = isw_i, xmax=isw_f, ymin =0, ymax=1, alpha = 0.2, color='y')\n",
    "    plt.annotate('ISw', xy=(isw_i + 5, av_img.max() * 0.90))  \n",
    "    plt.axvspan(xmin = msw_i, xmax=msw_f, ymin =0, ymax=1, alpha = 0.4, color='y')\n",
    "    plt.annotate('MSw', xy=(msw_i + 5, av_img.max() * 0.90))  \n",
    "    plt.axvspan(xmin = tsw_i, xmax=tsw_f, ymin =0, ymax=1, alpha = 0.6, color='y')\n",
    "    plt.annotate('TSw', xy=(tsw_i + 5, av_img.max() * 0.90))  \n",
    "\n",
    "    plt.show()\n"
   ]
  },
  {
   "cell_type": "markdown",
   "metadata": {
    "collapsed": true
   },
   "source": [
    "## Vetor de features para classificação $X_c = [a, av, aa, C]$\n",
    "#### $a \\rightarrow$ ângulo; $av \\rightarrow$ velocidade angular; $aa \\rightarrow$ aceleração angular; $C \\rightarrow$ indice de classificação\n",
    "## Indice de classificação $\"c\"$:\n",
    "#### $C = 0 \\rightarrow$ Marcha normal;\n",
    "#### $C = 1 \\rightarrow$ Marcha de subida de escada;\n",
    "#### $C = 2 \\rightarrow$ Marvha de descidade escada."
   ]
  },
  {
   "cell_type": "code",
   "execution_count": 11,
   "metadata": {
    "collapsed": false
   },
   "outputs": [
    {
     "name": "stdout",
     "output_type": "stream",
     "text": [
      "(60,) (59,) (58,)\n"
     ]
    }
   ],
   "source": [
    "print a.shape, av.shape, aa.shape\n",
    "len_xc = len(a)-2"
   ]
  },
  {
   "cell_type": "code",
   "execution_count": 12,
   "metadata": {
    "collapsed": true
   },
   "outputs": [],
   "source": [
    "Xcp = np.hstack(\n",
    "                (a[2:].reshape((len_xc,1)),\n",
    "                 av[1:].reshape((len_xc,1))))"
   ]
  },
  {
   "cell_type": "code",
   "execution_count": 13,
   "metadata": {
    "collapsed": true
   },
   "outputs": [],
   "source": [
    "Xcp = np.hstack(\n",
    "                (Xcp.reshape((len_xc,2)),\n",
    "                 aa.reshape((len_xc,1))))"
   ]
  },
  {
   "cell_type": "code",
   "execution_count": 14,
   "metadata": {
    "collapsed": false
   },
   "outputs": [],
   "source": [
    "Xcp = np.hstack(\n",
    "                (Xcp.reshape((len_xc,3)),\n",
    "                 l_a[2:].reshape((len_xc,1))))"
   ]
  },
  {
   "cell_type": "code",
   "execution_count": 15,
   "metadata": {
    "collapsed": true
   },
   "outputs": [],
   "source": [
    "Xcp = np.hstack(\n",
    "                (Xcp.reshape((len_xc,4)),\n",
    "                 l_av[1:].reshape((len_xc,1))))"
   ]
  },
  {
   "cell_type": "code",
   "execution_count": 16,
   "metadata": {
    "collapsed": true
   },
   "outputs": [],
   "source": [
    "Xcp = np.hstack(\n",
    "                (Xcp.reshape((len_xc,5)),\n",
    "                 l_aa.reshape((len_xc,1))))"
   ]
  },
  {
   "cell_type": "code",
   "execution_count": 17,
   "metadata": {
    "collapsed": true
   },
   "outputs": [],
   "source": [
    "Xcp = np.hstack(\n",
    "                (Xcp.reshape((len_xc,6)),\n",
    "                 pos_foot_r[2:].reshape((len_xc,1))))"
   ]
  },
  {
   "cell_type": "code",
   "execution_count": 18,
   "metadata": {
    "collapsed": true
   },
   "outputs": [],
   "source": [
    "Xcp = np.hstack(\n",
    "                (Xcp.reshape((len_xc,7)),\n",
    "                 pos_foot_l[2:].reshape((len_xc,1))))"
   ]
  },
  {
   "cell_type": "code",
   "execution_count": 19,
   "metadata": {
    "collapsed": false
   },
   "outputs": [],
   "source": [
    "vz_r = velocities3d[1:,2]   # Velocidade no eixo z\n",
    "vz_l = l_velocities3d[1:,2] # Velocidade no eixo z"
   ]
  },
  {
   "cell_type": "code",
   "execution_count": 20,
   "metadata": {
    "collapsed": false
   },
   "outputs": [],
   "source": [
    "Xcp = np.hstack(\n",
    "                (Xcp.reshape((len_xc,8)),\n",
    "                 vz_r.reshape((len_xc,1))))"
   ]
  },
  {
   "cell_type": "code",
   "execution_count": 21,
   "metadata": {
    "collapsed": false
   },
   "outputs": [],
   "source": [
    "Xcp = np.hstack(\n",
    "                (Xcp.reshape((len_xc,9)),\n",
    "                 vz_l.reshape((len_xc,1))))"
   ]
  },
  {
   "cell_type": "markdown",
   "metadata": {},
   "source": [
    "### Adiciando coluna de classificação"
   ]
  },
  {
   "cell_type": "code",
   "execution_count": 22,
   "metadata": {
    "collapsed": true
   },
   "outputs": [],
   "source": [
    "C = (np.ones(len_xc)*2).reshape((len_xc,1))"
   ]
  },
  {
   "cell_type": "code",
   "execution_count": 23,
   "metadata": {
    "collapsed": false
   },
   "outputs": [],
   "source": [
    "Xc = np.hstack(\n",
    "                (Xcp.reshape((len_xc,10)),\n",
    "                 C.reshape((len_xc,1))))"
   ]
  },
  {
   "cell_type": "code",
   "execution_count": 24,
   "metadata": {
    "collapsed": false
   },
   "outputs": [
    {
     "data": {
      "text/plain": [
       "(58, 11)"
      ]
     },
     "execution_count": 24,
     "metadata": {},
     "output_type": "execute_result"
    }
   ],
   "source": [
    "Xc.shape"
   ]
  },
  {
   "cell_type": "code",
   "execution_count": 25,
   "metadata": {
    "collapsed": false
   },
   "outputs": [
    {
     "name": "stdout",
     "output_type": "stream",
     "text": [
      "Saved to file\n"
     ]
    }
   ],
   "source": [
    "## salvando em arquivo na pasta <classifier_data>\n",
    "from Data_Savior_J import save_it_now\n",
    "save_it_now(Xc, \"./classifier_data/walk1D.data\")"
   ]
  },
  {
   "cell_type": "markdown",
   "metadata": {
    "collapsed": true
   },
   "source": [
    "# Checks for Nan"
   ]
  },
  {
   "cell_type": "code",
   "execution_count": 26,
   "metadata": {
    "collapsed": false,
    "scrolled": true
   },
   "outputs": [
    {
     "data": {
      "text/plain": [
       "array([[False, False, False, False, False, False, False, False, False,\n",
       "        False, False],\n",
       "       [False, False, False, False, False, False, False, False, False,\n",
       "        False, False],\n",
       "       [False, False, False, False, False, False, False, False, False,\n",
       "        False, False],\n",
       "       [False, False, False, False, False, False, False, False, False,\n",
       "        False, False],\n",
       "       [False, False, False, False, False, False, False, False, False,\n",
       "        False, False],\n",
       "       [False, False, False, False, False, False, False, False, False,\n",
       "        False, False],\n",
       "       [False, False, False, False, False, False, False, False, False,\n",
       "        False, False],\n",
       "       [False, False, False, False, False, False, False, False, False,\n",
       "        False, False],\n",
       "       [False, False, False, False, False, False, False, False, False,\n",
       "        False, False],\n",
       "       [False, False, False, False, False, False, False, False, False,\n",
       "        False, False],\n",
       "       [False, False, False, False, False, False, False, False, False,\n",
       "        False, False],\n",
       "       [False, False, False, False, False, False, False, False, False,\n",
       "        False, False],\n",
       "       [False, False, False, False, False, False, False, False, False,\n",
       "        False, False],\n",
       "       [False, False, False, False, False, False, False, False, False,\n",
       "        False, False],\n",
       "       [False, False, False, False, False, False, False, False, False,\n",
       "        False, False],\n",
       "       [False, False, False, False, False, False, False, False, False,\n",
       "        False, False],\n",
       "       [False, False, False, False, False, False, False, False, False,\n",
       "        False, False],\n",
       "       [False, False, False, False, False, False, False, False, False,\n",
       "        False, False],\n",
       "       [False, False, False, False, False, False, False, False, False,\n",
       "        False, False],\n",
       "       [False, False, False, False, False, False, False, False, False,\n",
       "        False, False],\n",
       "       [False, False, False, False, False, False, False, False, False,\n",
       "        False, False],\n",
       "       [False, False, False, False, False, False, False, False, False,\n",
       "        False, False],\n",
       "       [False, False, False, False, False, False, False, False, False,\n",
       "        False, False],\n",
       "       [False, False, False, False, False, False, False, False, False,\n",
       "        False, False],\n",
       "       [False, False, False, False, False, False, False, False, False,\n",
       "        False, False],\n",
       "       [False, False, False, False, False, False, False, False, False,\n",
       "        False, False],\n",
       "       [False, False, False, False, False, False, False, False, False,\n",
       "        False, False],\n",
       "       [False, False, False, False, False, False, False, False, False,\n",
       "        False, False],\n",
       "       [False, False, False, False, False, False, False, False, False,\n",
       "        False, False],\n",
       "       [False, False, False, False, False, False, False, False, False,\n",
       "        False, False],\n",
       "       [False, False, False, False, False, False, False, False, False,\n",
       "        False, False],\n",
       "       [False, False, False, False, False, False, False, False, False,\n",
       "        False, False],\n",
       "       [False, False, False, False, False, False, False, False, False,\n",
       "        False, False],\n",
       "       [False, False, False, False, False, False, False, False, False,\n",
       "        False, False],\n",
       "       [False, False, False, False, False, False, False, False, False,\n",
       "        False, False],\n",
       "       [False, False, False, False, False, False, False, False, False,\n",
       "        False, False],\n",
       "       [False, False, False, False, False, False, False, False, False,\n",
       "        False, False],\n",
       "       [False, False, False, False, False, False, False, False, False,\n",
       "        False, False],\n",
       "       [False, False, False, False, False, False, False, False, False,\n",
       "        False, False],\n",
       "       [False, False, False, False, False, False, False, False, False,\n",
       "        False, False],\n",
       "       [False, False, False, False, False, False, False, False, False,\n",
       "        False, False],\n",
       "       [False, False, False, False, False, False, False, False, False,\n",
       "        False, False],\n",
       "       [False, False, False, False, False, False, False, False, False,\n",
       "        False, False],\n",
       "       [False, False, False, False, False, False, False, False, False,\n",
       "        False, False],\n",
       "       [False, False, False, False, False, False, False, False, False,\n",
       "        False, False],\n",
       "       [False, False, False, False, False, False, False, False, False,\n",
       "        False, False],\n",
       "       [False, False, False, False, False, False, False, False, False,\n",
       "        False, False],\n",
       "       [False, False, False, False, False, False, False, False, False,\n",
       "        False, False],\n",
       "       [False, False, False, False, False, False, False, False, False,\n",
       "        False, False],\n",
       "       [False, False, False, False, False, False, False, False, False,\n",
       "        False, False],\n",
       "       [False, False, False, False, False, False, False, False, False,\n",
       "        False, False],\n",
       "       [False, False, False, False, False, False, False, False, False,\n",
       "        False, False],\n",
       "       [False, False, False, False, False, False, False, False, False,\n",
       "        False, False],\n",
       "       [False, False, False, False, False, False, False, False, False,\n",
       "        False, False],\n",
       "       [False, False, False, False, False, False, False, False, False,\n",
       "        False, False],\n",
       "       [False, False, False, False, False, False, False, False, False,\n",
       "        False, False],\n",
       "       [False, False, False, False, False, False, False, False, False,\n",
       "        False, False],\n",
       "       [False, False, False, False, False, False, False, False, False,\n",
       "        False, False]], dtype=bool)"
      ]
     },
     "execution_count": 26,
     "metadata": {},
     "output_type": "execute_result"
    }
   ],
   "source": [
    "Nan = np.isnan(Xc)\n",
    "Nan  "
   ]
  },
  {
   "cell_type": "code",
   "execution_count": null,
   "metadata": {
    "collapsed": true
   },
   "outputs": [],
   "source": []
  },
  {
   "cell_type": "code",
   "execution_count": null,
   "metadata": {
    "collapsed": true
   },
   "outputs": [],
   "source": []
  }
 ],
 "metadata": {
  "anaconda-cloud": {},
  "kernelspec": {
   "display_name": "Python [Root]",
   "language": "python",
   "name": "Python [Root]"
  },
  "language_info": {
   "codemirror_mode": {
    "name": "ipython",
    "version": 2
   },
   "file_extension": ".py",
   "mimetype": "text/x-python",
   "name": "python",
   "nbconvert_exporter": "python",
   "pygments_lexer": "ipython2",
   "version": "2.7.12"
  }
 },
 "nbformat": 4,
 "nbformat_minor": 0
}
