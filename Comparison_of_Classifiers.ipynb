{
 "cells": [
  {
   "cell_type": "code",
   "execution_count": 51,
   "metadata": {
    "collapsed": false
   },
   "outputs": [],
   "source": [
    "import numpy as np\n",
    "from Data_Savior_J import load_file\n",
    "\n",
    "Xz = load_file(\"./classifier_data/walk1.data\")\n",
    "Xz = np.vstack((Xz,load_file(\"./classifier_data/walk1U.data\")))\n",
    "Xz = np.vstack((Xz,load_file(\"./classifier_data/walk1D.data\")))\n",
    "\n",
    "Xz = np.vstack((Xz,load_file(\"./classifier_data/walk2.data\")))\n",
    "Xz = np.vstack((Xz,load_file(\"./classifier_data/walk2U.data\")))\n",
    "Xz = np.vstack((Xz,load_file(\"./classifier_data/walk2D.data\")))\n",
    "\n",
    "Xz = np.vstack((Xz,load_file(\"./classifier_data/walk3.data\")))\n",
    "Xz = np.vstack((Xz,load_file(\"./classifier_data/walk3U.data\")))\n",
    "Xz = np.vstack((Xz,load_file(\"./classifier_data/walk3D.data\")))\n",
    "\n",
    "Xz = np.vstack((Xz,load_file(\"./classifier_data/walk4.data\")))\n",
    "Xz = np.vstack((Xz,load_file(\"./classifier_data/walk4U.data\")))\n",
    "Xz = np.vstack((Xz,load_file(\"./classifier_data/walk4D.data\")))\n",
    "\n",
    "Xz = np.vstack((Xz,load_file(\"./classifier_data/walk5.data\")))\n",
    "Xz = np.vstack((Xz,load_file(\"./classifier_data/walk5U.data\")))\n",
    "Xz = np.vstack((Xz,load_file(\"./classifier_data/walk5D.data\")))"
   ]
  },
  {
   "cell_type": "markdown",
   "metadata": {},
   "source": [
    "## Vetor de features para classificação:\n",
    "\n",
    "$X_c = [a~| ~av~| ~aa~| ~l\\_a~| ~l\\_av~| ~l\\_aa~| ~pos\\_foot\\_r~| ~pos\\_foot\\_l~| ~vz\\_r~| ~vz\\_l~| ~C]$\n",
    "$X_c = [0~|~~1~~| ~~2~~| ~~~3~~| ~~~4~~~| ~~~~5~~| ~~~~~~~6~~~~~~~~~~| ~~~~~~~~7~~~~~~~~| ~~~8~~~| ~~~~9~~| 10]$\n",
    "\n",
    "#### $a \\rightarrow$ ângulo do joelho direito; $av \\rightarrow$ velocidade angular do joelho direito; $aa \\rightarrow$ aceleração angular do joelho direito;\n",
    "#### $a \\rightarrow$ ângulo do joelho esquerdo; $av \\rightarrow$ velocidade angular do joelho esquerdo; $aa \\rightarrow$ aceleração angular do joelho esquerdo; \n",
    "#### $pos\\_foot\\_r \\rightarrow$ posição do tornozelo direito em relação ao sacro; $pos\\_foot\\_l \\rightarrow$ posição do tornozelo esquerdo em relação ao sacro;\n",
    "#### $vz\\_r \\rightarrow$ velocidade do trocanter direito no eixo z; $vz\\_l \\rightarrow$ velocidade do trocanter esquerdo no eixo z;\n",
    "#### $C \\rightarrow$ indice de classificação\n",
    "## Indice de classificação $\"c\"$:\n",
    "#### $C = 0 \\rightarrow$ Marcha normal;\n",
    "#### $C = 1 \\rightarrow$ Marcha de subida de escada;\n",
    "#### $C = 2 \\rightarrow$ Marvha de descidade escada."
   ]
  },
  {
   "cell_type": "code",
   "execution_count": 52,
   "metadata": {
    "collapsed": false
   },
   "outputs": [
    {
     "data": {
      "text/plain": [
       "((817, 10), (817,))"
      ]
     },
     "execution_count": 52,
     "metadata": {},
     "output_type": "execute_result"
    }
   ],
   "source": [
    "import numpy as np\n",
    "\n",
    "X = Xz[:,[0,1,2,3,4,5,6,7,8,9]]\n",
    "\n",
    "yz = Xz[:,[10]]\n",
    "y = np.array([])\n",
    "for i in range(len(yz)):\n",
    "    y = np.hstack((y,yz[i]))\n",
    "\n",
    "X.shape, y.shape"
   ]
  },
  {
   "cell_type": "code",
   "execution_count": 53,
   "metadata": {
    "collapsed": false
   },
   "outputs": [
    {
     "data": {
      "text/plain": [
       "array([ 0.,  1.,  2.])"
      ]
     },
     "execution_count": 53,
     "metadata": {},
     "output_type": "execute_result"
    }
   ],
   "source": [
    "np.unique(y) # possíveis valores de y"
   ]
  },
  {
   "cell_type": "code",
   "execution_count": 54,
   "metadata": {
    "collapsed": false
   },
   "outputs": [],
   "source": [
    "from sklearn.cross_validation import train_test_split\n",
    "X_train, X_test, y_train, y_test = train_test_split(X, y, test_size=0.25, \n",
    "                                                    random_state=10)"
   ]
  },
  {
   "cell_type": "code",
   "execution_count": 55,
   "metadata": {
    "collapsed": false
   },
   "outputs": [],
   "source": [
    "\n",
    "from sklearn.preprocessing import StandardScaler\n",
    "sc = StandardScaler()\n",
    "sc.fit(X_train)\n",
    "X_train_std = sc.transform(X_train)\n",
    "X_test_std = sc.transform(X_test)\n"
   ]
  },
  {
   "cell_type": "code",
   "execution_count": 56,
   "metadata": {
    "collapsed": false
   },
   "outputs": [
    {
     "name": "stdout",
     "output_type": "stream",
     "text": [
      "(612, 10)\n"
     ]
    }
   ],
   "source": [
    "print X_train_std.shape"
   ]
  },
  {
   "cell_type": "markdown",
   "metadata": {},
   "source": [
    "# SVM RBF/Polynomial Classifier"
   ]
  },
  {
   "cell_type": "code",
   "execution_count": 98,
   "metadata": {
    "collapsed": false
   },
   "outputs": [
    {
     "name": "stdout",
     "output_type": "stream",
     "text": [
      "\n",
      "Processing time Polynomial\n",
      "CPU times: user 16 ms, sys: 0 ns, total: 16 ms\n",
      "Wall time: 13.1 ms\n",
      "SVM-RBF accuracy:---------->99.02 %\n"
     ]
    }
   ],
   "source": [
    "import numpy as np\n",
    "import matplotlib.pyplot as plt\n",
    "from sklearn import svm, datasets\n",
    "\n",
    "#print 'Processing time RBF'\n",
    "#%time rbf_svc = svm.SVC(kernel='rbf', gamma=0.2, C=6, decision_function_shape='ovr').fit(X_train_std, y_train)\n",
    "print ''\n",
    "print 'Processing time Polynomial'\n",
    "%time poly_svc = svm.SVC(kernel='poly', degree=2, coef0=4.7, C=48.9, decision_function_shape='ovr').fit(X_train_std, y_train)\n",
    "\n",
    "from sklearn.metrics import accuracy_score\n",
    "y_pred = poly_svc.predict(X_test_std)\n",
    "\n",
    "def run_svm(svc, X_test_std, y_test):\n",
    "    y_pred = svc.predict(X_test_std)\n",
    "    from sklearn.metrics import accuracy_score\n",
    "    if (svc==rbf_svc):\n",
    "        print ('SVM-RBF accuracy:---------->%.2f %%' % (accuracy_score(y_test, y_pred)*100))\n",
    "    elif(svc==poly_svc):\n",
    "        print ('SVM-Polynomial accuracy:--->%.2f %%' % (accuracy_score(y_test, y_pred)*100))\n",
    "        \n",
    "run_svm(rbf_svc, X_test_std, y_test)\n",
    "#run_svm(poly_svc, X_test_std, y_test)"
   ]
  },
  {
   "cell_type": "markdown",
   "metadata": {},
   "source": [
    "# Confusion Matrix for SVM RBF/Polynomial Classifier"
   ]
  },
  {
   "cell_type": "code",
   "execution_count": 99,
   "metadata": {
    "collapsed": false
   },
   "outputs": [
    {
     "name": "stdout",
     "output_type": "stream",
     "text": [
      "Confusion matrix, without normalization\n",
      "[[62  0  0]\n",
      " [ 1 65  1]\n",
      " [ 0  0 76]]\n",
      "Normalized confusion matrix\n",
      "[[ 1.    0.    0.  ]\n",
      " [ 0.01  0.97  0.01]\n",
      " [ 0.    0.    1.  ]]\n"
     ]
    }
   ],
   "source": [
    "from sklearn.metrics import confusion_matrix\n",
    "import itertools\n",
    "\n",
    "#%matplotlib inline\n",
    "class_names = np.array(['normal', 'stair ascent', 'stair descent'])\n",
    "\n",
    "def plot_confusion_matrix(cm, classes,\n",
    "                          normalize=False,\n",
    "                          title='Confusion matrix',\n",
    "                          cmap=plt.cm.Blues):\n",
    "    \"\"\"\n",
    "    This function prints and plots the confusion matrix.\n",
    "    Normalization can be applied by setting `normalize=True`.\n",
    "    \"\"\"\n",
    "    plt.imshow(cm, interpolation='nearest', cmap=cmap)\n",
    "    plt.title(title)\n",
    "    plt.colorbar()\n",
    "    tick_marks = np.arange(len(classes))\n",
    "    plt.xticks(tick_marks, classes, rotation=45)\n",
    "    plt.yticks(tick_marks, classes)\n",
    "\n",
    "    if normalize:\n",
    "        cm = cm.astype('float') / cm.sum(axis=1)[:, np.newaxis]\n",
    "        print(\"Normalized confusion matrix\")\n",
    "    else:\n",
    "        print('Confusion matrix, without normalization')\n",
    "\n",
    "    print(cm)\n",
    "\n",
    "    thresh = cm.max() / 2.\n",
    "    for i, j in itertools.product(range(cm.shape[0]), range(cm.shape[1])):\n",
    "        plt.text(j, i, cm[i, j],\n",
    "                 horizontalalignment=\"center\",\n",
    "                 color=\"white\" if cm[i, j] > thresh else \"black\")\n",
    "\n",
    "    plt.tight_layout()\n",
    "    plt.ylabel('True label')\n",
    "    plt.xlabel('Predicted label')\n",
    "\n",
    "# Compute confusion matrix\n",
    "cnf_matrix = confusion_matrix(y_test, y_pred)\n",
    "np.set_printoptions(precision=2)\n",
    "\n",
    "# Plot non-normalized confusion matrix\n",
    "plt.figure()\n",
    "plot_confusion_matrix(cnf_matrix, classes=class_names,\n",
    "                      title='Confusion matrix, without normalization')\n",
    "\n",
    "# Plot normalized confusion matrix\n",
    "plt.figure()\n",
    "plot_confusion_matrix(cnf_matrix, classes=class_names, normalize=True,\n",
    "                      title='Normalized confusion matrix')\n",
    "\n",
    "plt.show()"
   ]
  },
  {
   "cell_type": "code",
   "execution_count": 100,
   "metadata": {
    "collapsed": false
   },
   "outputs": [
    {
     "name": "stdout",
     "output_type": "stream",
     "text": [
      "PERFORMANCE MEASURES BY CONFUSION MATRIX\n",
      "Accuracy: 99.00 %\n",
      "\n",
      "Sensitivity-A: 100.00 %\n",
      "Sensitivity-B: 97.01 %\n",
      "Sensitivity-C: 100.00 %\n",
      "\n",
      "Precision-A: 98.53 %\n",
      "Precision-B: 100.00 %\n",
      "Precision-C: 98.53 %\n",
      "\n",
      "Specificity-A: 99.25 %\n",
      "Specificity-B: 100.00 %\n",
      "Specificity-C: 99.25 %\n"
     ]
    }
   ],
   "source": [
    "cm = confusion_matrix(y_test, y_pred)\n",
    "cm = cm.astype('float') / cm.sum(axis=1)[:, np.newaxis]\n",
    "TPa = float(cm[0][0])\n",
    "Eab = float(cm[0][1])\n",
    "Eac = float(cm[0][2])\n",
    "#####################\n",
    "Eba = float(cm[1][0])\n",
    "TPb = float(cm[1][1])\n",
    "Ebc = float(cm[1][2])\n",
    "#####################\n",
    "Eca = float(cm[2][0])\n",
    "Ecb = float(cm[2][1])\n",
    "TPc = float(cm[2][2])\n",
    "\n",
    "Pa = TPa/(TPa+Eba+Eca)\n",
    "Pb = TPb/(TPb+Eab+Ecb)\n",
    "Pc = TPc/(TPc+Eac+Ebc)\n",
    "\n",
    "Ra = TPa/(TPa+Eab+Eab)\n",
    "Rb = TPb/(TPb+Eba+Ebc)\n",
    "Rc = TPc/(TPc+Eca+Ecb)\n",
    "\n",
    "TNa = TPb+Ebc+Ecb+TPc\n",
    "TNb = TPa+Eac+Eca+TPc\n",
    "TNc = TPa+Eab+Eba+TPb\n",
    "\n",
    "Sa = TNa/(TNa+Eba+Eca)\n",
    "Sb = TNb/(TNb+Eab+Eac)\n",
    "Sc = TNc/(TNc+Eac+Ebc)\n",
    "\n",
    "Acc = (TPa+TPb+TPc)/(TPa+Eab+Eac+Eba+TPb+Ebc+Eca+Ecb+TPc)\n",
    "\n",
    "print 'PERFORMANCE MEASURES BY CONFUSION MATRIX'\n",
    "print ('Accuracy: %.2f %%' % (Acc*100))\n",
    "print ''\n",
    "print ('Sensitivity-A: %.2f %%' % (Ra*100))\n",
    "print ('Sensitivity-B: %.2f %%' % (Rb*100))\n",
    "print ('Sensitivity-C: %.2f %%' % (Rc*100))\n",
    "print ''\n",
    "print ('Precision-A: %.2f %%' % (Pa*100))\n",
    "print ('Precision-B: %.2f %%' % (Pb*100))\n",
    "print ('Precision-C: %.2f %%' % (Pc*100))\n",
    "print ''\n",
    "print ('Specificity-A: %.2f %%' % (Sa*100))\n",
    "print ('Specificity-B: %.2f %%' % (Sb*100))\n",
    "print ('Specificity-C: %.2f %%' % (Sc*100))\n"
   ]
  },
  {
   "cell_type": "markdown",
   "metadata": {},
   "source": [
    "# Gaussian Naive Bayes Classifier"
   ]
  },
  {
   "cell_type": "code",
   "execution_count": 83,
   "metadata": {
    "collapsed": false
   },
   "outputs": [
    {
     "name": "stdout",
     "output_type": "stream",
     "text": [
      "ClassifyGNB accuracy:---------->87.32 %\n"
     ]
    }
   ],
   "source": [
    "from sklearn.naive_bayes import GaussianNB\n",
    "\n",
    "gnb = GaussianNB()\n",
    "gnb.fit(X_train_std, y_train)\n",
    "\n",
    "y_pred = gnb.predict(X_test_std)\n",
    "\n",
    "from sklearn.metrics import accuracy_score\n",
    "print ('ClassifyGNB accuracy:---------->%.2f %%' % (accuracy_score(y_test, y_pred)*100))"
   ]
  },
  {
   "cell_type": "markdown",
   "metadata": {},
   "source": [
    "# Confusion Matrix for Gaussian Naive Bayes Classifier"
   ]
  },
  {
   "cell_type": "code",
   "execution_count": 84,
   "metadata": {
    "collapsed": false
   },
   "outputs": [
    {
     "name": "stdout",
     "output_type": "stream",
     "text": [
      "Confusion matrix, without normalization\n",
      "[[58  2  2]\n",
      " [10 46 11]\n",
      " [ 1  0 75]]\n",
      "Normalized confusion matrix\n",
      "[[ 0.94  0.03  0.03]\n",
      " [ 0.15  0.69  0.16]\n",
      " [ 0.01  0.    0.99]]\n"
     ]
    }
   ],
   "source": [
    "from sklearn.metrics import confusion_matrix\n",
    "import itertools\n",
    "\n",
    "#%matplotlib inline\n",
    "class_names = np.array(['normal', 'stair ascent', 'stair descent'])\n",
    "\n",
    "def plot_confusion_matrix(cm, classes,\n",
    "                          normalize=False,\n",
    "                          title='Confusion matrix',\n",
    "                          cmap=plt.cm.Blues):\n",
    "    \"\"\"\n",
    "    This function prints and plots the confusion matrix.\n",
    "    Normalization can be applied by setting `normalize=True`.\n",
    "    \"\"\"\n",
    "    plt.imshow(cm, interpolation='nearest', cmap=cmap)\n",
    "    plt.title(title)\n",
    "    plt.colorbar()\n",
    "    tick_marks = np.arange(len(classes))\n",
    "    plt.xticks(tick_marks, classes, rotation=45)\n",
    "    plt.yticks(tick_marks, classes)\n",
    "\n",
    "    if normalize:\n",
    "        cm = cm.astype('float') / cm.sum(axis=1)[:, np.newaxis]\n",
    "        print(\"Normalized confusion matrix\")\n",
    "    else:\n",
    "        print('Confusion matrix, without normalization')\n",
    "\n",
    "    print(cm)\n",
    "\n",
    "    thresh = cm.max() / 2.\n",
    "    for i, j in itertools.product(range(cm.shape[0]), range(cm.shape[1])):\n",
    "        plt.text(j, i, cm[i, j],\n",
    "                 horizontalalignment=\"center\",\n",
    "                 color=\"white\" if cm[i, j] > thresh else \"black\")\n",
    "\n",
    "    plt.tight_layout()\n",
    "    plt.ylabel('True label')\n",
    "    plt.xlabel('Predicted label')\n",
    "\n",
    "# Compute confusion matrix\n",
    "cnf_matrix = confusion_matrix(y_test, y_pred)\n",
    "np.set_printoptions(precision=2)\n",
    "\n",
    "# Plot non-normalized confusion matrix\n",
    "plt.figure()\n",
    "plot_confusion_matrix(cnf_matrix, classes=class_names,\n",
    "                      title='Confusion matrix, without normalization')\n",
    "\n",
    "# Plot normalized confusion matrix\n",
    "plt.figure()\n",
    "plot_confusion_matrix(cnf_matrix, classes=class_names, normalize=True,\n",
    "                      title='Normalized confusion matrix')\n",
    "\n",
    "plt.show()"
   ]
  },
  {
   "cell_type": "code",
   "execution_count": 85,
   "metadata": {
    "collapsed": false
   },
   "outputs": [
    {
     "name": "stdout",
     "output_type": "stream",
     "text": [
      "PERFORMANCE MEASURES BY CONFUSION MATRIX\n",
      "Accuracy: 86.96 %\n",
      "\n",
      "Sensitivity-A: 93.55 %\n",
      "Sensitivity-B: 68.66 %\n",
      "Sensitivity-C: 98.68 %\n",
      "\n",
      "Precision-A: 85.21 %\n",
      "Precision-B: 95.51 %\n",
      "Precision-C: 83.40 %\n",
      "\n",
      "Specificity-A: 91.88 %\n",
      "Specificity-B: 96.83 %\n",
      "Specificity-C: 90.18 %\n"
     ]
    }
   ],
   "source": [
    "cm = confusion_matrix(y_test, y_pred)\n",
    "cm = cm.astype('float') / cm.sum(axis=1)[:, np.newaxis]\n",
    "TPa = float(cm[0][0])\n",
    "Eab = float(cm[0][1])\n",
    "Eac = float(cm[0][2])\n",
    "#####################\n",
    "Eba = float(cm[1][0])\n",
    "TPb = float(cm[1][1])\n",
    "Ebc = float(cm[1][2])\n",
    "#####################\n",
    "Eca = float(cm[2][0])\n",
    "Ecb = float(cm[2][1])\n",
    "TPc = float(cm[2][2])\n",
    "\n",
    "Pa = TPa/(TPa+Eba+Eca)\n",
    "Pb = TPb/(TPb+Eab+Ecb)\n",
    "Pc = TPc/(TPc+Eac+Ebc)\n",
    "\n",
    "Ra = TPa/(TPa+Eab+Eab)\n",
    "Rb = TPb/(TPb+Eba+Ebc)\n",
    "Rc = TPc/(TPc+Eca+Ecb)\n",
    "\n",
    "TNa = TPb+Ebc+Ecb+TPc\n",
    "TNb = TPa+Eac+Eca+TPc\n",
    "TNc = TPa+Eab+Eba+TPb\n",
    "\n",
    "Sa = TNa/(TNa+Eba+Eca)\n",
    "Sb = TNb/(TNb+Eab+Eac)\n",
    "Sc = TNc/(TNc+Eac+Ebc)\n",
    "\n",
    "Acc = (TPa+TPb+TPc)/(TPa+Eab+Eac+Eba+TPb+Ebc+Eca+Ecb+TPc)\n",
    "\n",
    "print 'PERFORMANCE MEASURES BY CONFUSION MATRIX'\n",
    "print ('Accuracy: %.2f %%' % (Acc*100))\n",
    "print ''\n",
    "print ('Sensitivity-A: %.2f %%' % (Ra*100))\n",
    "print ('Sensitivity-B: %.2f %%' % (Rb*100))\n",
    "print ('Sensitivity-C: %.2f %%' % (Rc*100))\n",
    "print ''\n",
    "print ('Precision-A: %.2f %%' % (Pa*100))\n",
    "print ('Precision-B: %.2f %%' % (Pb*100))\n",
    "print ('Precision-C: %.2f %%' % (Pc*100))\n",
    "print ''\n",
    "print ('Specificity-A: %.2f %%' % (Sa*100))\n",
    "print ('Specificity-B: %.2f %%' % (Sb*100))\n",
    "print ('Specificity-C: %.2f %%' % (Sc*100))\n"
   ]
  },
  {
   "cell_type": "markdown",
   "metadata": {},
   "source": [
    "# Random Forest Classifier"
   ]
  },
  {
   "cell_type": "code",
   "execution_count": 86,
   "metadata": {
    "collapsed": false
   },
   "outputs": [
    {
     "name": "stdout",
     "output_type": "stream",
     "text": [
      "Training time\n",
      "CPU times: user 300 ms, sys: 0 ns, total: 300 ms\n",
      "Wall time: 296 ms\n",
      "\n",
      "Predict time\n",
      "CPU times: user 40 ms, sys: 0 ns, total: 40 ms\n",
      "Wall time: 39.9 ms\n",
      "\n",
      "ClassifyRF accuracy:---------->99.51 %\n"
     ]
    }
   ],
   "source": [
    "from sklearn.ensemble import RandomForestClassifier\n",
    "rfc = RandomForestClassifier(n_estimators=100)\n",
    "\n",
    "print 'Training time'\n",
    "%time rfc = rfc.fit(X_train_std, y_train)\n",
    "\n",
    "print''\n",
    "\n",
    "print 'Predict time'\n",
    "%time y_pred = rfc.predict(X_test_std)\n",
    "\n",
    "print''\n",
    "\n",
    "from sklearn.metrics import accuracy_score\n",
    "print ('ClassifyRF accuracy:---------->%.2f %%' % (accuracy_score(y_test, y_pred)*100))"
   ]
  },
  {
   "cell_type": "markdown",
   "metadata": {},
   "source": [
    "# Confusion Matrix for Random Forest Classifier"
   ]
  },
  {
   "cell_type": "code",
   "execution_count": 87,
   "metadata": {
    "collapsed": false
   },
   "outputs": [
    {
     "name": "stdout",
     "output_type": "stream",
     "text": [
      "Confusion matrix, without normalization\n",
      "[[62  0  0]\n",
      " [ 1 66  0]\n",
      " [ 0  0 76]]\n",
      "Normalized confusion matrix\n",
      "[[ 1.    0.    0.  ]\n",
      " [ 0.01  0.99  0.  ]\n",
      " [ 0.    0.    1.  ]]\n"
     ]
    }
   ],
   "source": [
    "from sklearn.metrics import confusion_matrix\n",
    "import itertools\n",
    "\n",
    "#%matplotlib inline\n",
    "class_names = np.array(['normal', 'stair ascent', 'stair descent'])\n",
    "\n",
    "def plot_confusion_matrix(cm, classes,\n",
    "                          normalize=False,\n",
    "                          title='Confusion matrix',\n",
    "                          cmap=plt.cm.Blues):\n",
    "    \"\"\"\n",
    "    This function prints and plots the confusion matrix.\n",
    "    Normalization can be applied by setting `normalize=True`.\n",
    "    \"\"\"\n",
    "    plt.imshow(cm, interpolation='nearest', cmap=cmap)\n",
    "    plt.title(title)\n",
    "    plt.colorbar()\n",
    "    tick_marks = np.arange(len(classes))\n",
    "    plt.xticks(tick_marks, classes, rotation=45)\n",
    "    plt.yticks(tick_marks, classes)\n",
    "\n",
    "    if normalize:\n",
    "        cm = cm.astype('float') / cm.sum(axis=1)[:, np.newaxis]\n",
    "        print(\"Normalized confusion matrix\")\n",
    "    else:\n",
    "        print('Confusion matrix, without normalization')\n",
    "\n",
    "    print(cm)\n",
    "\n",
    "    thresh = cm.max() / 2.\n",
    "    for i, j in itertools.product(range(cm.shape[0]), range(cm.shape[1])):\n",
    "        plt.text(j, i, cm[i, j],\n",
    "                 horizontalalignment=\"center\",\n",
    "                 color=\"white\" if cm[i, j] > thresh else \"black\")\n",
    "\n",
    "    plt.tight_layout()\n",
    "    plt.ylabel('True label')\n",
    "    plt.xlabel('Predicted label')\n",
    "\n",
    "# Compute confusion matrix\n",
    "cnf_matrix = confusion_matrix(y_test, y_pred)\n",
    "np.set_printoptions(precision=2)\n",
    "\n",
    "# Plot non-normalized confusion matrix\n",
    "plt.figure()\n",
    "plot_confusion_matrix(cnf_matrix, classes=class_names,\n",
    "                      title='Confusion matrix, without normalization')\n",
    "\n",
    "# Plot normalized confusion matrix\n",
    "plt.figure()\n",
    "plot_confusion_matrix(cnf_matrix, classes=class_names, normalize=True,\n",
    "                      title='Normalized confusion matrix')\n",
    "\n",
    "plt.show()"
   ]
  },
  {
   "cell_type": "code",
   "execution_count": 88,
   "metadata": {
    "collapsed": false
   },
   "outputs": [
    {
     "name": "stdout",
     "output_type": "stream",
     "text": [
      "PERFORMANCE MEASURES BY CONFUSION MATRIX\n",
      "Accuracy: 99.50 %\n",
      "\n",
      "Sensitivity-A: 100.00 %\n",
      "Sensitivity-B: 98.51 %\n",
      "Sensitivity-C: 100.00 %\n",
      "\n",
      "Precision-A: 98.53 %\n",
      "Precision-B: 100.00 %\n",
      "Precision-C: 100.00 %\n",
      "\n",
      "Specificity-A: 99.25 %\n",
      "Specificity-B: 100.00 %\n",
      "Specificity-C: 100.00 %\n"
     ]
    }
   ],
   "source": [
    "cm = confusion_matrix(y_test, y_pred)\n",
    "cm = cm.astype('float') / cm.sum(axis=1)[:, np.newaxis]\n",
    "TPa = float(cm[0][0])\n",
    "Eab = float(cm[0][1])\n",
    "Eac = float(cm[0][2])\n",
    "#####################\n",
    "Eba = float(cm[1][0])\n",
    "TPb = float(cm[1][1])\n",
    "Ebc = float(cm[1][2])\n",
    "#####################\n",
    "Eca = float(cm[2][0])\n",
    "Ecb = float(cm[2][1])\n",
    "TPc = float(cm[2][2])\n",
    "\n",
    "Pa = TPa/(TPa+Eba+Eca)\n",
    "Pb = TPb/(TPb+Eab+Ecb)\n",
    "Pc = TPc/(TPc+Eac+Ebc)\n",
    "\n",
    "Ra = TPa/(TPa+Eab+Eab)\n",
    "Rb = TPb/(TPb+Eba+Ebc)\n",
    "Rc = TPc/(TPc+Eca+Ecb)\n",
    "\n",
    "TNa = TPb+Ebc+Ecb+TPc\n",
    "TNb = TPa+Eac+Eca+TPc\n",
    "TNc = TPa+Eab+Eba+TPb\n",
    "\n",
    "Sa = TNa/(TNa+Eba+Eca)\n",
    "Sb = TNb/(TNb+Eab+Eac)\n",
    "Sc = TNc/(TNc+Eac+Ebc)\n",
    "\n",
    "Acc = (TPa+TPb+TPc)/(TPa+Eab+Eac+Eba+TPb+Ebc+Eca+Ecb+TPc)\n",
    "\n",
    "print 'PERFORMANCE MEASURES BY CONFUSION MATRIX'\n",
    "print ('Accuracy: %.2f %%' % (Acc*100))\n",
    "print ''\n",
    "print ('Sensitivity-A: %.2f %%' % (Ra*100))\n",
    "print ('Sensitivity-B: %.2f %%' % (Rb*100))\n",
    "print ('Sensitivity-C: %.2f %%' % (Rc*100))\n",
    "print ''\n",
    "print ('Precision-A: %.2f %%' % (Pa*100))\n",
    "print ('Precision-B: %.2f %%' % (Pb*100))\n",
    "print ('Precision-C: %.2f %%' % (Pc*100))\n",
    "print ''\n",
    "print ('Specificity-A: %.2f %%' % (Sa*100))\n",
    "print ('Specificity-B: %.2f %%' % (Sb*100))\n",
    "print ('Specificity-C: %.2f %%' % (Sc*100))\n"
   ]
  },
  {
   "cell_type": "markdown",
   "metadata": {
    "collapsed": true
   },
   "source": [
    "# Decision Tree Classifier"
   ]
  },
  {
   "cell_type": "code",
   "execution_count": 89,
   "metadata": {
    "collapsed": false
   },
   "outputs": [
    {
     "name": "stdout",
     "output_type": "stream",
     "text": [
      "\n",
      "Predict time\n",
      "CPU times: user 0 ns, sys: 0 ns, total: 0 ns\n",
      "Wall time: 173 µs\n",
      "\n",
      "ClassifyDT accuracy:---------->95.12 %\n"
     ]
    }
   ],
   "source": [
    "from sklearn import tree\n",
    "dtc = tree.DecisionTreeClassifier(min_samples_split = 20)\n",
    "dtc = dtc.fit(X_train_std, y_train)\n",
    "\n",
    "print''\n",
    "\n",
    "print 'Predict time'\n",
    "%time y_pred = dtc.predict(X_test_std)\n",
    "\n",
    "print''\n",
    "\n",
    "from sklearn.metrics import accuracy_score\n",
    "print ('ClassifyDT accuracy:---------->%.2f %%' % (accuracy_score(y_test, y_pred)*100))"
   ]
  },
  {
   "cell_type": "markdown",
   "metadata": {},
   "source": [
    "# Confusion Matrix for Decision Tree Classifier"
   ]
  },
  {
   "cell_type": "code",
   "execution_count": 90,
   "metadata": {
    "collapsed": false
   },
   "outputs": [
    {
     "name": "stdout",
     "output_type": "stream",
     "text": [
      "Confusion matrix, without normalization\n",
      "[[61  1  0]\n",
      " [ 0 62  5]\n",
      " [ 1  3 72]]\n",
      "Normalized confusion matrix\n",
      "[[ 0.98  0.02  0.  ]\n",
      " [ 0.    0.93  0.07]\n",
      " [ 0.01  0.04  0.95]]\n"
     ]
    }
   ],
   "source": [
    "from sklearn.metrics import confusion_matrix\n",
    "import itertools\n",
    "\n",
    "#%matplotlib inline\n",
    "class_names = np.array(['normal', 'stair ascent', 'stair descent'])\n",
    "\n",
    "def plot_confusion_matrix(cm, classes,\n",
    "                          normalize=False,\n",
    "                          title='Confusion matrix',\n",
    "                          cmap=plt.cm.Blues):\n",
    "    \"\"\"\n",
    "    This function prints and plots the confusion matrix.\n",
    "    Normalization can be applied by setting `normalize=True`.\n",
    "    \"\"\"\n",
    "    plt.imshow(cm, interpolation='nearest', cmap=cmap)\n",
    "    plt.title(title)\n",
    "    plt.colorbar()\n",
    "    tick_marks = np.arange(len(classes))\n",
    "    plt.xticks(tick_marks, classes, rotation=45)\n",
    "    plt.yticks(tick_marks, classes)\n",
    "\n",
    "    if normalize:\n",
    "        cm = cm.astype('float') / cm.sum(axis=1)[:, np.newaxis]\n",
    "        print(\"Normalized confusion matrix\")\n",
    "    else:\n",
    "        print('Confusion matrix, without normalization')\n",
    "\n",
    "    print(cm)\n",
    "\n",
    "    thresh = cm.max() / 2.\n",
    "    for i, j in itertools.product(range(cm.shape[0]), range(cm.shape[1])):\n",
    "        plt.text(j, i, cm[i, j],\n",
    "                 horizontalalignment=\"center\",\n",
    "                 color=\"white\" if cm[i, j] > thresh else \"black\")\n",
    "\n",
    "    plt.tight_layout()\n",
    "    plt.ylabel('True label')\n",
    "    plt.xlabel('Predicted label')\n",
    "\n",
    "# Compute confusion matrix\n",
    "cnf_matrix = confusion_matrix(y_test, y_pred)\n",
    "np.set_printoptions(precision=2)\n",
    "\n",
    "# Plot non-normalized confusion matrix\n",
    "plt.figure()\n",
    "plot_confusion_matrix(cnf_matrix, classes=class_names,\n",
    "                      title='Confusion matrix, without normalization')\n",
    "\n",
    "# Plot normalized confusion matrix\n",
    "plt.figure()\n",
    "plot_confusion_matrix(cnf_matrix, classes=class_names, normalize=True,\n",
    "                      title='Normalized confusion matrix')\n",
    "\n",
    "plt.show()"
   ]
  },
  {
   "cell_type": "code",
   "execution_count": 91,
   "metadata": {
    "collapsed": false
   },
   "outputs": [
    {
     "name": "stdout",
     "output_type": "stream",
     "text": [
      "PERFORMANCE MEASURES BY CONFUSION MATRIX\n",
      "Accuracy: 95.22 %\n",
      "\n",
      "Sensitivity-A: 96.83 %\n",
      "Sensitivity-B: 92.54 %\n",
      "Sensitivity-C: 94.74 %\n",
      "\n",
      "Precision-A: 98.68 %\n",
      "Precision-B: 94.33 %\n",
      "Precision-C: 92.70 %\n",
      "\n",
      "Specificity-A: 99.34 %\n",
      "Specificity-B: 99.18 %\n",
      "Specificity-C: 96.27 %\n"
     ]
    }
   ],
   "source": [
    "cm = confusion_matrix(y_test, y_pred)\n",
    "cm = cm.astype('float') / cm.sum(axis=1)[:, np.newaxis]\n",
    "TPa = float(cm[0][0])\n",
    "Eab = float(cm[0][1])\n",
    "Eac = float(cm[0][2])\n",
    "#####################\n",
    "Eba = float(cm[1][0])\n",
    "TPb = float(cm[1][1])\n",
    "Ebc = float(cm[1][2])\n",
    "#####################\n",
    "Eca = float(cm[2][0])\n",
    "Ecb = float(cm[2][1])\n",
    "TPc = float(cm[2][2])\n",
    "\n",
    "Pa = TPa/(TPa+Eba+Eca)\n",
    "Pb = TPb/(TPb+Eab+Ecb)\n",
    "Pc = TPc/(TPc+Eac+Ebc)\n",
    "\n",
    "Ra = TPa/(TPa+Eab+Eab)\n",
    "Rb = TPb/(TPb+Eba+Ebc)\n",
    "Rc = TPc/(TPc+Eca+Ecb)\n",
    "\n",
    "TNa = TPb+Ebc+Ecb+TPc\n",
    "TNb = TPa+Eac+Eca+TPc\n",
    "TNc = TPa+Eab+Eba+TPb\n",
    "\n",
    "Sa = TNa/(TNa+Eba+Eca)\n",
    "Sb = TNb/(TNb+Eab+Eac)\n",
    "Sc = TNc/(TNc+Eac+Ebc)\n",
    "\n",
    "Acc = (TPa+TPb+TPc)/(TPa+Eab+Eac+Eba+TPb+Ebc+Eca+Ecb+TPc)\n",
    "\n",
    "print 'PERFORMANCE MEASURES BY CONFUSION MATRIX'\n",
    "print ('Accuracy: %.2f %%' % (Acc*100))\n",
    "print ''\n",
    "print ('Sensitivity-A: %.2f %%' % (Ra*100))\n",
    "print ('Sensitivity-B: %.2f %%' % (Rb*100))\n",
    "print ('Sensitivity-C: %.2f %%' % (Rc*100))\n",
    "print ''\n",
    "print ('Precision-A: %.2f %%' % (Pa*100))\n",
    "print ('Precision-B: %.2f %%' % (Pb*100))\n",
    "print ('Precision-C: %.2f %%' % (Pc*100))\n",
    "print ''\n",
    "print ('Specificity-A: %.2f %%' % (Sa*100))\n",
    "print ('Specificity-B: %.2f %%' % (Sb*100))\n",
    "print ('Specificity-C: %.2f %%' % (Sc*100))\n"
   ]
  },
  {
   "cell_type": "markdown",
   "metadata": {},
   "source": [
    "# Ada Boost Classifier"
   ]
  },
  {
   "cell_type": "code",
   "execution_count": 92,
   "metadata": {
    "collapsed": false
   },
   "outputs": [
    {
     "name": "stdout",
     "output_type": "stream",
     "text": [
      "\n",
      "Predict time\n",
      "CPU times: user 4 ms, sys: 0 ns, total: 4 ms\n",
      "Wall time: 7.21 ms\n",
      "\n",
      "ClassifyAB accuracy:---------->82.93 %\n"
     ]
    }
   ],
   "source": [
    "from sklearn.ensemble import AdaBoostClassifier\n",
    "abc = AdaBoostClassifier(n_estimators=100, learning_rate = 2.5395)\n",
    "abc = abc.fit(X_train_std, y_train)\n",
    "print''\n",
    "\n",
    "print 'Predict time'\n",
    "%time y_pred = abc.predict(X_test_std)\n",
    "\n",
    "print''\n",
    "\n",
    "from sklearn.metrics import accuracy_score\n",
    "\n",
    "\n",
    "print ('ClassifyAB accuracy:---------->%.2f %%' % (accuracy_score(y_test, y_pred)*100))"
   ]
  },
  {
   "cell_type": "markdown",
   "metadata": {},
   "source": [
    "# Confusion Matrix for Ada Boost Classifier"
   ]
  },
  {
   "cell_type": "code",
   "execution_count": 93,
   "metadata": {
    "collapsed": false
   },
   "outputs": [
    {
     "name": "stdout",
     "output_type": "stream",
     "text": [
      "Confusion matrix, without normalization\n",
      "[[52  9  1]\n",
      " [11 52  4]\n",
      " [ 0 10 66]]\n",
      "Normalized confusion matrix\n",
      "[[ 0.84  0.15  0.02]\n",
      " [ 0.16  0.78  0.06]\n",
      " [ 0.    0.13  0.87]]\n"
     ]
    }
   ],
   "source": [
    "from sklearn.metrics import confusion_matrix\n",
    "import itertools\n",
    "\n",
    "#%matplotlib inline\n",
    "class_names = np.array(['normal', 'stair ascent', 'stair descent'])\n",
    "\n",
    "def plot_confusion_matrix(cm, classes,\n",
    "                          normalize=False,\n",
    "                          title='Confusion matrix',\n",
    "                          cmap=plt.cm.Blues):\n",
    "    \"\"\"\n",
    "    This function prints and plots the confusion matrix.\n",
    "    Normalization can be applied by setting `normalize=True`.\n",
    "    \"\"\"\n",
    "    plt.imshow(cm, interpolation='nearest', cmap=cmap)\n",
    "    plt.title(title)\n",
    "    plt.colorbar()\n",
    "    tick_marks = np.arange(len(classes))\n",
    "    plt.xticks(tick_marks, classes, rotation=45)\n",
    "    plt.yticks(tick_marks, classes)\n",
    "\n",
    "    if normalize:\n",
    "        cm = cm.astype('float') / cm.sum(axis=1)[:, np.newaxis]\n",
    "        print(\"Normalized confusion matrix\")\n",
    "    else:\n",
    "        print('Confusion matrix, without normalization')\n",
    "\n",
    "    print(cm)\n",
    "\n",
    "    thresh = cm.max() / 2.\n",
    "    for i, j in itertools.product(range(cm.shape[0]), range(cm.shape[1])):\n",
    "        plt.text(j, i, cm[i, j],\n",
    "                 horizontalalignment=\"center\",\n",
    "                 color=\"white\" if cm[i, j] > thresh else \"black\")\n",
    "\n",
    "    plt.tight_layout()\n",
    "    plt.ylabel('True label')\n",
    "    plt.xlabel('Predicted label')\n",
    "\n",
    "# Compute confusion matrix\n",
    "cnf_matrix = confusion_matrix(y_test, y_pred)\n",
    "np.set_printoptions(precision=2)\n",
    "\n",
    "# Plot non-normalized confusion matrix\n",
    "plt.figure()\n",
    "plot_confusion_matrix(cnf_matrix, classes=class_names,\n",
    "                      title='Confusion matrix, without normalization')\n",
    "\n",
    "# Plot normalized confusion matrix\n",
    "plt.figure()\n",
    "plot_confusion_matrix(cnf_matrix, classes=class_names, normalize=True,\n",
    "                      title='Normalized confusion matrix')\n",
    "\n",
    "plt.show()"
   ]
  },
  {
   "cell_type": "code",
   "execution_count": 94,
   "metadata": {
    "collapsed": false
   },
   "outputs": [
    {
     "name": "stdout",
     "output_type": "stream",
     "text": [
      "PERFORMANCE MEASURES BY CONFUSION MATRIX\n",
      "Accuracy: 82.78 %\n",
      "\n",
      "Sensitivity-A: 74.29 %\n",
      "Sensitivity-B: 77.61 %\n",
      "Sensitivity-C: 86.84 %\n",
      "\n",
      "Precision-A: 83.63 %\n",
      "Precision-B: 73.72 %\n",
      "Precision-C: 91.97 %\n",
      "\n",
      "Specificity-A: 91.79 %\n",
      "Specificity-B: 91.44 %\n",
      "Specificity-C: 96.21 %\n"
     ]
    }
   ],
   "source": [
    "cm = confusion_matrix(y_test, y_pred)\n",
    "cm = cm.astype('float') / cm.sum(axis=1)[:, np.newaxis]\n",
    "TPa = float(cm[0][0])\n",
    "Eab = float(cm[0][1])\n",
    "Eac = float(cm[0][2])\n",
    "#####################\n",
    "Eba = float(cm[1][0])\n",
    "TPb = float(cm[1][1])\n",
    "Ebc = float(cm[1][2])\n",
    "#####################\n",
    "Eca = float(cm[2][0])\n",
    "Ecb = float(cm[2][1])\n",
    "TPc = float(cm[2][2])\n",
    "\n",
    "Pa = TPa/(TPa+Eba+Eca)\n",
    "Pb = TPb/(TPb+Eab+Ecb)\n",
    "Pc = TPc/(TPc+Eac+Ebc)\n",
    "\n",
    "Ra = TPa/(TPa+Eab+Eab)\n",
    "Rb = TPb/(TPb+Eba+Ebc)\n",
    "Rc = TPc/(TPc+Eca+Ecb)\n",
    "\n",
    "TNa = TPb+Ebc+Ecb+TPc\n",
    "TNb = TPa+Eac+Eca+TPc\n",
    "TNc = TPa+Eab+Eba+TPb\n",
    "\n",
    "Sa = TNa/(TNa+Eba+Eca)\n",
    "Sb = TNb/(TNb+Eab+Eac)\n",
    "Sc = TNc/(TNc+Eac+Ebc)\n",
    "\n",
    "Acc = (TPa+TPb+TPc)/(TPa+Eab+Eac+Eba+TPb+Ebc+Eca+Ecb+TPc)\n",
    "\n",
    "print 'PERFORMANCE MEASURES BY CONFUSION MATRIX'\n",
    "print ('Accuracy: %.2f %%' % (Acc*100))\n",
    "print ''\n",
    "print ('Sensitivity-A: %.2f %%' % (Ra*100))\n",
    "print ('Sensitivity-B: %.2f %%' % (Rb*100))\n",
    "print ('Sensitivity-C: %.2f %%' % (Rc*100))\n",
    "print ''\n",
    "print ('Precision-A: %.2f %%' % (Pa*100))\n",
    "print ('Precision-B: %.2f %%' % (Pb*100))\n",
    "print ('Precision-C: %.2f %%' % (Pc*100))\n",
    "print ''\n",
    "print ('Specificity-A: %.2f %%' % (Sa*100))\n",
    "print ('Specificity-B: %.2f %%' % (Sb*100))\n",
    "print ('Specificity-C: %.2f %%' % (Sc*100))\n"
   ]
  },
  {
   "cell_type": "markdown",
   "metadata": {},
   "source": [
    "# KNeighbors Classifier"
   ]
  },
  {
   "cell_type": "code",
   "execution_count": 95,
   "metadata": {
    "collapsed": false
   },
   "outputs": [
    {
     "name": "stdout",
     "output_type": "stream",
     "text": [
      "\n",
      "Predict time\n",
      "CPU times: user 0 ns, sys: 0 ns, total: 0 ns\n",
      "Wall time: 3.52 ms\n",
      "\n",
      "ClassifyKN accuracy:---------->99.02 %\n"
     ]
    }
   ],
   "source": [
    "from sklearn.neighbors import KNeighborsClassifier\n",
    "knc = KNeighborsClassifier(n_neighbors=2, weights = 'distance', algorithm = 'auto', p = 1)\n",
    "knc = knc.fit(X_train_std, y_train)\n",
    "print''\n",
    "\n",
    "print 'Predict time'\n",
    "%time y_pred = knc.predict(X_test_std)\n",
    "\n",
    "print''\n",
    "\n",
    "from sklearn.metrics import accuracy_score\n",
    "\n",
    "\n",
    "\n",
    "print ('ClassifyKN accuracy:---------->%.2f %%' % (accuracy_score(y_test, y_pred)*100))\n"
   ]
  },
  {
   "cell_type": "markdown",
   "metadata": {},
   "source": [
    "# Confusion Matrix for KNeighbors Classifier"
   ]
  },
  {
   "cell_type": "code",
   "execution_count": 96,
   "metadata": {
    "collapsed": false
   },
   "outputs": [
    {
     "name": "stdout",
     "output_type": "stream",
     "text": [
      "Confusion matrix, without normalization\n",
      "[[61  1  0]\n",
      " [ 0 67  0]\n",
      " [ 0  1 75]]\n",
      "Normalized confusion matrix\n",
      "[[ 0.98  0.02  0.  ]\n",
      " [ 0.    1.    0.  ]\n",
      " [ 0.    0.01  0.99]]\n"
     ]
    }
   ],
   "source": [
    "from sklearn.metrics import confusion_matrix\n",
    "import itertools\n",
    "\n",
    "#%matplotlib inline\n",
    "class_names = np.array(['normal', 'stair ascent', 'stair descent'])\n",
    "\n",
    "def plot_confusion_matrix(cm, classes,\n",
    "                          normalize=False,\n",
    "                          title='Confusion matrix',\n",
    "                          cmap=plt.cm.Blues):\n",
    "    \"\"\"\n",
    "    This function prints and plots the confusion matrix.\n",
    "    Normalization can be applied by setting `normalize=True`.\n",
    "    \"\"\"\n",
    "    plt.imshow(cm, interpolation='nearest', cmap=cmap)\n",
    "    plt.title(title)\n",
    "    plt.colorbar()\n",
    "    tick_marks = np.arange(len(classes))\n",
    "    plt.xticks(tick_marks, classes, rotation=45)\n",
    "    plt.yticks(tick_marks, classes)\n",
    "\n",
    "    if normalize:\n",
    "        cm = cm.astype('float') / cm.sum(axis=1)[:, np.newaxis]\n",
    "        print(\"Normalized confusion matrix\")\n",
    "    else:\n",
    "        print('Confusion matrix, without normalization')\n",
    "\n",
    "    print(cm)\n",
    "\n",
    "    thresh = cm.max() / 2.\n",
    "    for i, j in itertools.product(range(cm.shape[0]), range(cm.shape[1])):\n",
    "        plt.text(j, i, cm[i, j],\n",
    "                 horizontalalignment=\"center\",\n",
    "                 color=\"white\" if cm[i, j] > thresh else \"black\")\n",
    "\n",
    "    plt.tight_layout()\n",
    "    plt.ylabel('True label')\n",
    "    plt.xlabel('Predicted label')\n",
    "\n",
    "# Compute confusion matrix\n",
    "cnf_matrix = confusion_matrix(y_test, y_pred)\n",
    "np.set_printoptions(precision=2)\n",
    "\n",
    "# Plot non-normalized confusion matrix\n",
    "plt.figure()\n",
    "plot_confusion_matrix(cnf_matrix, classes=class_names,\n",
    "                      title='Confusion matrix, without normalization')\n",
    "\n",
    "# Plot normalized confusion matrix\n",
    "plt.figure()\n",
    "plot_confusion_matrix(cnf_matrix, classes=class_names, normalize=True,\n",
    "                      title='Normalized confusion matrix')\n",
    "\n",
    "plt.show()"
   ]
  },
  {
   "cell_type": "code",
   "execution_count": 97,
   "metadata": {
    "collapsed": false
   },
   "outputs": [
    {
     "name": "stdout",
     "output_type": "stream",
     "text": [
      "PERFORMANCE MEASURES BY CONFUSION MATRIX\n",
      "Accuracy: 99.02 %\n",
      "\n",
      "Sensitivity-A: 96.83 %\n",
      "Sensitivity-B: 100.00 %\n",
      "Sensitivity-C: 98.68 %\n",
      "\n",
      "Precision-A: 100.00 %\n",
      "Precision-B: 97.15 %\n",
      "Precision-C: 100.00 %\n",
      "\n",
      "Specificity-A: 100.00 %\n",
      "Specificity-B: 99.19 %\n",
      "Specificity-C: 100.00 %\n"
     ]
    }
   ],
   "source": [
    "cm = confusion_matrix(y_test, y_pred)\n",
    "cm = cm.astype('float') / cm.sum(axis=1)[:, np.newaxis]\n",
    "TPa = float(cm[0][0])\n",
    "Eab = float(cm[0][1])\n",
    "Eac = float(cm[0][2])\n",
    "#####################\n",
    "Eba = float(cm[1][0])\n",
    "TPb = float(cm[1][1])\n",
    "Ebc = float(cm[1][2])\n",
    "#####################\n",
    "Eca = float(cm[2][0])\n",
    "Ecb = float(cm[2][1])\n",
    "TPc = float(cm[2][2])\n",
    "\n",
    "Pa = TPa/(TPa+Eba+Eca)\n",
    "Pb = TPb/(TPb+Eab+Ecb)\n",
    "Pc = TPc/(TPc+Eac+Ebc)\n",
    "\n",
    "Ra = TPa/(TPa+Eab+Eab)\n",
    "Rb = TPb/(TPb+Eba+Ebc)\n",
    "Rc = TPc/(TPc+Eca+Ecb)\n",
    "\n",
    "TNa = TPb+Ebc+Ecb+TPc\n",
    "TNb = TPa+Eac+Eca+TPc\n",
    "TNc = TPa+Eab+Eba+TPb\n",
    "\n",
    "Sa = TNa/(TNa+Eba+Eca)\n",
    "Sb = TNb/(TNb+Eab+Eac)\n",
    "Sc = TNc/(TNc+Eac+Ebc)\n",
    "\n",
    "Acc = (TPa+TPb+TPc)/(TPa+Eab+Eac+Eba+TPb+Ebc+Eca+Ecb+TPc)\n",
    "\n",
    "print 'PERFORMANCE MEASURES BY CONFUSION MATRIX'\n",
    "print ('Accuracy: %.2f %%' % (Acc*100))\n",
    "print ''\n",
    "print ('Sensitivity-A: %.2f %%' % (Ra*100))\n",
    "print ('Sensitivity-B: %.2f %%' % (Rb*100))\n",
    "print ('Sensitivity-C: %.2f %%' % (Rc*100))\n",
    "print ''\n",
    "print ('Precision-A: %.2f %%' % (Pa*100))\n",
    "print ('Precision-B: %.2f %%' % (Pb*100))\n",
    "print ('Precision-C: %.2f %%' % (Pc*100))\n",
    "print ''\n",
    "print ('Specificity-A: %.2f %%' % (Sa*100))\n",
    "print ('Specificity-B: %.2f %%' % (Sb*100))\n",
    "print ('Specificity-C: %.2f %%' % (Sc*100))\n"
   ]
  },
  {
   "cell_type": "markdown",
   "metadata": {
    "collapsed": true
   },
   "source": [
    "# Classificadores Utilizados:\n",
    "\n",
    "### knc : KNeighborsClassifier; \n",
    "### abc : AdaBoostClassifier; \n",
    "### dtc : tree.DecisionTreeClassifier; \n",
    "### rfc : RandomForestClassifier; \n",
    "### gnb : GaussianNB; \n",
    "### rbf_svc : SVMClassifierRBF; \n",
    "### poly_svc = SVMClassifierPoly"
   ]
  },
  {
   "cell_type": "code",
   "execution_count": 75,
   "metadata": {
    "collapsed": false
   },
   "outputs": [
    {
     "ename": "NameError",
     "evalue": "name 'poly_svc' is not defined",
     "output_type": "error",
     "traceback": [
      "\u001b[1;31m---------------------------------------------------------------------------\u001b[0m",
      "\u001b[1;31mNameError\u001b[0m                                 Traceback (most recent call last)",
      "\u001b[1;32m<ipython-input-75-1e8f3139b959>\u001b[0m in \u001b[0;36m<module>\u001b[1;34m()\u001b[0m\n\u001b[0;32m      1\u001b[0m \u001b[1;32mfrom\u001b[0m \u001b[0msklearn\u001b[0m\u001b[1;33m.\u001b[0m\u001b[0mensemble\u001b[0m \u001b[1;32mimport\u001b[0m \u001b[0mVotingClassifier\u001b[0m\u001b[1;33m\u001b[0m\u001b[0m\n\u001b[0;32m      2\u001b[0m eclf1 = VotingClassifier(estimators=[('knc', knc), ('abc', abc), ('dtc', dtc), ('rfc', rfc), ('gnb', gnb), \n\u001b[1;32m----> 3\u001b[1;33m                                      (\"rbf_svc\", rbf_svc), ('poly_svc', poly_svc)], voting='hard',weights=[3,1,1,7,1,4,3])\n\u001b[0m\u001b[0;32m      4\u001b[0m \u001b[0meclf1\u001b[0m \u001b[1;33m=\u001b[0m \u001b[0meclf1\u001b[0m\u001b[1;33m.\u001b[0m\u001b[0mfit\u001b[0m\u001b[1;33m(\u001b[0m\u001b[0mX_train_std\u001b[0m\u001b[1;33m,\u001b[0m \u001b[0my_train\u001b[0m\u001b[1;33m)\u001b[0m\u001b[1;33m\u001b[0m\u001b[0m\n",
      "\u001b[1;31mNameError\u001b[0m: name 'poly_svc' is not defined"
     ]
    }
   ],
   "source": [
    "from sklearn.ensemble import VotingClassifier\n",
    "eclf1 = VotingClassifier(estimators=[('knc', knc), ('abc', abc), ('dtc', dtc), ('rfc', rfc), ('gnb', gnb), \n",
    "                                     (\"rbf_svc\", rbf_svc), ('poly_svc', poly_svc)], voting='hard',weights=[3,1,1,7,1,4,3])\n",
    "eclf1 = eclf1.fit(X_train_std, y_train)"
   ]
  },
  {
   "cell_type": "code",
   "execution_count": 32,
   "metadata": {
    "collapsed": false
   },
   "outputs": [
    {
     "name": "stdout",
     "output_type": "stream",
     "text": [
      "Accuracy: 96.73 % [KNieghbors]\n",
      "Accuracy: 77.07 % [Ada Boost]\n",
      "Accuracy: 91.99 % [Decision Tree]\n",
      "Accuracy: 98.85 % [Random Forest]\n",
      "Accuracy: 79.09 % [Naive Bayes]\n",
      "Accuracy: 96.89 % [SVM-RBF]\n",
      "Accuracy: 95.92 % [SVM-Poly]\n",
      "Accuracy: 99.67 % [Ensemble]\n"
     ]
    }
   ],
   "source": [
    "from sklearn.model_selection import cross_val_score\n",
    "from sklearn.ensemble import VotingClassifier\n",
    "\n",
    "for clf, label in zip([knc, abc, dtc, rfc, gnb, rbf_svc, poly_svc, eclf1], ['KNieghbors', 'Ada Boost', 'Decision Tree', \n",
    "                                                                           'Random Forest', 'Naive Bayes', 'SVM-RBF', \n",
    "                                                                           'SVM-Poly', 'Ensemble']):\n",
    "    scores = (cross_val_score(clf, X_train_std, y_train, cv=5, scoring='accuracy'))*100\n",
    "    #print(\"Accuracy: %0.2f %%(+/- %0.2f) [%s]\" % (scores.mean(), scores.std(), label))\n",
    "    print(\"Accuracy: %0.2f %% [%s]\" % (scores.mean(), label))"
   ]
  },
  {
   "cell_type": "code",
   "execution_count": 33,
   "metadata": {
    "collapsed": false
   },
   "outputs": [
    {
     "name": "stdout",
     "output_type": "stream",
     "text": [
      "The scikit-learn version is 0.18.\n"
     ]
    }
   ],
   "source": [
    "\n",
    "\n",
    "import sklearn\n",
    "\n",
    "print('The scikit-learn version is {}.'.format(sklearn.__version__))"
   ]
  },
  {
   "cell_type": "code",
   "execution_count": 34,
   "metadata": {
    "collapsed": false
   },
   "outputs": [
    {
     "name": "stdout",
     "output_type": "stream",
     "text": [
      "score 0.990243902439\n",
      "Accuracy: 99.35 %\n"
     ]
    }
   ],
   "source": [
    "from sklearn.decomposition import PCA\n",
    "from sklearn.cross_decomposition import CCA\n",
    "from sklearn import cross_validation\n",
    "\n",
    "pca = PCA(n_components=10)# adjust yourself\n",
    "pca.fit(X_train)\n",
    "X_t_train = pca.transform(X_train)\n",
    "X_t_test = pca.transform(X_test)\n",
    "\n",
    "clf = rfc\n",
    "clf.fit(X_t_train, y_train)\n",
    "print 'score', clf.score(X_t_test, y_test)\n",
    "\n",
    "clf.predict(X_t_test)\n",
    "\n",
    "scores = (cross_val_score(clf, X_train_std, y_train, cv=5, scoring='accuracy'))*100\n",
    "print(\"Accuracy: %0.2f %%\" % (scores.mean()))"
   ]
  },
  {
   "cell_type": "code",
   "execution_count": null,
   "metadata": {
    "collapsed": true
   },
   "outputs": [],
   "source": []
  },
  {
   "cell_type": "markdown",
   "metadata": {},
   "source": [
    "BAK\n",
    "import math\n",
    "cm = confusion_matrix(y_test, y_pred)\n",
    "cm = cm.astype('float') / cm.sum(axis=1)[:, np.newaxis]\n",
    "TP = float(cm[0][0])\n",
    "FP = float(cm[1][0])\n",
    "FN = float(cm[0][1])\n",
    "TN = float(cm[1][1])\n",
    "\n",
    "print 'PERFORMANCE MEASURES BY CONFUSION MATRIX'\n",
    "print ('Sensitivity: %.2f %%' % (((TP)/(TP+FN))*100))\n",
    "print ('Specificity: %.2f %%' % ((TN)/((FP+TN))*100))\n",
    "print ('Accuracy: %.2f %%' % ((TP+TN)/((TP+FN)+(FP+TN))*100))\n",
    "print ('phi: %.2f ' % ((TP*TN-FP*FN)/math.sqrt((TP+FP)*(TP+FN)*(TN+FP)*(TN+FN))))\n"
   ]
  },
  {
   "cell_type": "code",
   "execution_count": null,
   "metadata": {
    "collapsed": true
   },
   "outputs": [],
   "source": []
  }
 ],
 "metadata": {
  "anaconda-cloud": {},
  "kernelspec": {
   "display_name": "Python [Root]",
   "language": "python",
   "name": "Python [Root]"
  },
  "language_info": {
   "codemirror_mode": {
    "name": "ipython",
    "version": 2
   },
   "file_extension": ".py",
   "mimetype": "text/x-python",
   "name": "python",
   "nbconvert_exporter": "python",
   "pygments_lexer": "ipython2",
   "version": "2.7.12"
  }
 },
 "nbformat": 4,
 "nbformat_minor": 0
}
